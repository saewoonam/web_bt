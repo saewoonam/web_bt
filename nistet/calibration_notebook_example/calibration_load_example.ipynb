{
 "cells": [
  {
   "cell_type": "code",
   "execution_count": null,
   "metadata": {},
   "outputs": [],
   "source": [
    "import numpy as np\n",
    "import en_convert\n",
    "import os.path\n",
    "import time\n",
    "import datetime"
   ]
  },
  {
   "cell_type": "code",
   "execution_count": null,
   "metadata": {},
   "outputs": [],
   "source": [
    "import glob"
   ]
  },
  {
   "cell_type": "code",
   "execution_count": null,
   "metadata": {},
   "outputs": [],
   "source": [
    "files = glob.glob(os.path.expanduser(\"./raw_NIST1004*.bin\"))\n",
    "files.sort()\n",
    "file = files[0]"
   ]
  },
  {
   "cell_type": "markdown",
   "metadata": {},
   "source": [
    "##  This data file has two segments\n",
    "There are three numbers to indicate location of the start and stop of the two segments"
   ]
  },
  {
   "cell_type": "code",
   "execution_count": null,
   "metadata": {},
   "outputs": [],
   "source": [
    "marks = en_convert.find_marks(files[0])\n",
    "marks"
   ]
  },
  {
   "cell_type": "markdown",
   "metadata": {},
   "source": [
    "##  Load two segments into a dictionary"
   ]
  },
  {
   "cell_type": "code",
   "execution_count": null,
   "metadata": {},
   "outputs": [],
   "source": [
    "datasets = {}\n",
    "\n",
    "for index in range(len(marks)-1):\n",
    "    datasets[index]={}\n",
    "    datasets[index]['header'],datasets[index]['data'] = en_convert.read_segment(files[-1], marks[index], marks[index+1])"
   ]
  },
  {
   "cell_type": "code",
   "execution_count": null,
   "metadata": {},
   "outputs": [],
   "source": [
    "datasets"
   ]
  },
  {
   "cell_type": "markdown",
   "metadata": {},
   "source": [
    "## Header info\n",
    "For each dataset there is a header of information.\n",
    "This includes information to convert the timestamp for each event into UTC time\n",
    "And, the distance and orientation that the calibration data was taken\n",
    "distance is in cm\n",
    "orientation is a number... 0: baseline, 1:A, 2:B, etc...\n",
    "\n",
    "The timestamp for each event is the time in milliseonds since the device was booted up.\n",
    "The \"offsettime\" in the header is the time since booted up that corresponds to the \"epochtime\" which is the UNIX epochtime\n",
    "One thing to be careful about is that the offsettime will roll over every 36 hours... Just in case, the number of times things have rolled over is recorded in the \"offsetovlw\"\n",
    "\n"
   ]
  },
  {
   "cell_type": "code",
   "execution_count": null,
   "metadata": {},
   "outputs": [],
   "source": [
    "datasets[0]['header']"
   ]
  }
 ],
 "metadata": {
  "kernelspec": {
   "display_name": "Python 3",
   "language": "python",
   "name": "python3"
  },
  "language_info": {
   "codemirror_mode": {
    "name": "ipython",
    "version": 3
   },
   "file_extension": ".py",
   "mimetype": "text/x-python",
   "name": "python",
   "nbconvert_exporter": "python",
   "pygments_lexer": "ipython3",
   "version": "3.7.7"
  }
 },
 "nbformat": 4,
 "nbformat_minor": 4
}
